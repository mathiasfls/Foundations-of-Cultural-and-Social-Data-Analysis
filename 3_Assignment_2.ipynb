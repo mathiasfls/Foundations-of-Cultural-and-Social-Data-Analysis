{
  "nbformat": 4,
  "nbformat_minor": 0,
  "metadata": {
    "colab": {
      "provenance": [],
      "toc_visible": true,
      "include_colab_link": true
    },
    "kernelspec": {
      "name": "python3",
      "display_name": "Python 3"
    },
    "language_info": {
      "name": "python"
    }
  },
  "cells": [
    {
      "cell_type": "markdown",
      "metadata": {
        "id": "view-in-github",
        "colab_type": "text"
      },
      "source": [
        "<a href=\"https://colab.research.google.com/github/mathiasfls/Foundations-of-Cultural-and-Social-Data-Analysis/blob/main/3_Assignment_2.ipynb\" target=\"_parent\"><img src=\"https://colab.research.google.com/assets/colab-badge.svg\" alt=\"Open In Colab\"/></a>"
      ]
    },
    {
      "cell_type": "markdown",
      "source": [
        "\n",
        "#Week 3\n",
        "\n"
      ],
      "metadata": {
        "id": "AnIQaraU6m-t"
      }
    },
    {
      "cell_type": "markdown",
      "source": [
        "## Assignment: Pandas filtering (**Part One**)\n",
        "\n",
        "**Instructions:**\n",
        "\n",
        "In this assignment, you will be given five datasets with filtering tasks.\n",
        "\n",
        "**Submission:**\n",
        "\n",
        "Submit the Python code in a zip file. Also, write a brief report explaining all the steps taken by the group."
      ],
      "metadata": {
        "id": "OAt-6og9lVjm"
      }
    },
    {
      "cell_type": "markdown",
      "source": [
        "### Dataframe 1"
      ],
      "metadata": {
        "id": "wF85ByW5Mrxy"
      }
    },
    {
      "cell_type": "code",
      "source": [
        "import pandas as pd\n",
        "import numpy as np\n",
        "\n",
        "data = {'Name': ['Alice', 'Bob', 'Charlie', 'David', 'Eve', 'Frank', 'Gina', 'Hank'],\n",
        "        'Age': [25, 32, 18, 47, 53, 21, 37, 28],\n",
        "        'Gender': ['F', 'M', 'M', 'M', 'F', 'M', 'F', 'M'],\n",
        "        'Salary': [50000, 70000, 30000, 100000, 120000, 40000, 80000, 60000]}\n",
        "\n",
        "df1 = pd.DataFrame(data)"
      ],
      "metadata": {
        "id": "lNtABxprAGkN"
      },
      "execution_count": null,
      "outputs": []
    },
    {
      "cell_type": "markdown",
      "source": [
        "\n",
        "\n",
        "\n",
        "1.   Filter the dataframe to only include individuals with a salary greater than $50,000\n",
        "2.   Filter the dataframe to only include females with an age greater than 25\n",
        "\n"
      ],
      "metadata": {
        "id": "DXhlBWrQMRJn"
      }
    },
    {
      "cell_type": "code",
      "source": [
        "#Solution:\n"
      ],
      "metadata": {
        "id": "8jEChfNvM-CF"
      },
      "execution_count": null,
      "outputs": []
    },
    {
      "cell_type": "markdown",
      "source": [
        "### Dataframe 2"
      ],
      "metadata": {
        "id": "oR3nCVPUNNEj"
      }
    },
    {
      "cell_type": "code",
      "source": [
        "import pandas as pd\n",
        "import numpy as np\n",
        "\n",
        "# create DataFrame 2\n",
        "data = {'Name': ['Alice', 'Bob', 'Charlie', 'David', 'Eve', 'Frank', 'Gina', 'Hank'],\n",
        "        'City': ['New York', 'Los Angeles', 'Chicago', 'Houston', 'Philadelphia', 'Phoenix', 'San Antonio', 'San Diego'],\n",
        "        'State': ['NY', 'CA', 'IL', 'TX', 'PA', 'AZ', 'TX', 'CA'],\n",
        "        'Population': [8336817, 3977683, 2693976, 2320268, 1584064, 1563025, 1547253, 1425976]}\n",
        "\n",
        "df2 = pd.DataFrame(data)"
      ],
      "metadata": {
        "id": "Ip3_iI5QNRy9"
      },
      "execution_count": null,
      "outputs": []
    },
    {
      "cell_type": "markdown",
      "source": [
        "\n",
        "\n",
        "1.   Filter the dataframe to only include cities in California\n",
        "2.   Filter the dataframe to only include cities with a population greater than 2 million in descending order\n",
        "\n"
      ],
      "metadata": {
        "id": "HYM4vCDoNbMQ"
      }
    },
    {
      "cell_type": "code",
      "source": [
        "#solution:\n"
      ],
      "metadata": {
        "id": "Us7ugrBtNkmV"
      },
      "execution_count": null,
      "outputs": []
    },
    {
      "cell_type": "markdown",
      "source": [
        "### Dataframe 3"
      ],
      "metadata": {
        "id": "t14fS69HNnLa"
      }
    },
    {
      "cell_type": "code",
      "source": [
        "import pandas as pd\n",
        "import numpy as np\n",
        "\n",
        "# create DataFrame 3\n",
        "data = {'Name': ['Alice', 'Bob', 'Charlie', 'David', 'Eve', 'Frank', 'Gina', 'Hank'],\n",
        "        'Language': ['Python', 'R', 'Python', 'Python', 'R', 'Python', 'Python', 'R'],\n",
        "        'Level': ['Beginner', 'Intermediate', 'Beginner', 'Expert', 'Beginner', 'Intermediate', 'Expert', 'Intermediate'],\n",
        "        'Age': [25, 32, 18, 47, 53, 21, 37, 28]}\n",
        "\n",
        "df3 = pd.DataFrame(data)"
      ],
      "metadata": {
        "id": "W1U492CUN42x"
      },
      "execution_count": null,
      "outputs": []
    },
    {
      "cell_type": "markdown",
      "source": [
        "\n",
        "\n",
        "1.   Filter the dataframe to only include individuals who know Python\n",
        "2.   Filter the dataframe to only include individuals who are both experts in Python and are over the age of 30\n",
        "\n"
      ],
      "metadata": {
        "id": "K1HmGGzmN3wk"
      }
    },
    {
      "cell_type": "code",
      "source": [
        "#solution\n"
      ],
      "metadata": {
        "id": "IhvUbCajOOnO"
      },
      "execution_count": null,
      "outputs": []
    },
    {
      "cell_type": "markdown",
      "source": [
        "### Dataframe 4"
      ],
      "metadata": {
        "id": "OqkcC9l-OVQb"
      }
    },
    {
      "cell_type": "code",
      "source": [
        "import pandas as pd\n",
        "import numpy as np\n",
        "\n",
        "# create DataFrame 4\n",
        "data = {'Product': ['Apple', 'Banana', 'Cherry', 'Date', 'Elderberry', 'Fig', 'Grapes', 'Honeydew'],\n",
        "        'Category': ['Fruit', 'Fruit', 'Fruit', 'Fruit', 'Fruit', 'Fruit', 'Fruit', 'Fruit'],\n",
        "        'Price': [0.25, 0.40, 0.50, 0.10, 0.75, 0.60, 0.30, 1.00]}\n",
        "\n",
        "df4 = pd.DataFrame(data)"
      ],
      "metadata": {
        "id": "g8TkPwF0OZUE"
      },
      "execution_count": null,
      "outputs": []
    },
    {
      "cell_type": "markdown",
      "source": [
        "\n",
        "\n",
        "1.   Filter the dataframe to only include products with a price greater than 0.50 \n",
        "2.   Filter the dataframe to only include products in the 'Fruit' category with a price greater than $0.40 in alphabetical order\n",
        "\n"
      ],
      "metadata": {
        "id": "xap8mcCCOdww"
      }
    },
    {
      "cell_type": "code",
      "source": [
        "#solution\n"
      ],
      "metadata": {
        "id": "B71qD007OnPu"
      },
      "execution_count": null,
      "outputs": []
    },
    {
      "cell_type": "markdown",
      "source": [
        "### Dataframe 5"
      ],
      "metadata": {
        "id": "IUg5fc7lOxXe"
      }
    },
    {
      "cell_type": "code",
      "source": [
        "import pandas as pd\n",
        "import numpy as np\n",
        "\n",
        "# create DataFrame 5\n",
        "data = {'City': ['New York', 'Los Angeles', 'Chicago', 'Houston', 'Philadelphia', 'Phoenix', 'San Antonio', 'San Diego'],\n",
        "        'State': ['NY', 'CA', 'IL', 'TX', 'PA', 'AZ', 'TX', 'CA'],\n",
        "        'Population': [8336817, 3977683, 2693976, 2320268, 1584064, 1563025, 1547253, 1425976],\n",
        "        'Land_Area_SqMi': [468.9, 502.7, 227.3, 599.6, 134.1, 517.6, 461.0, 372.4]}\n",
        "\n",
        "df5 = pd.DataFrame(data)"
      ],
      "metadata": {
        "id": "JiC7n-fhO1LG"
      },
      "execution_count": null,
      "outputs": []
    },
    {
      "cell_type": "markdown",
      "source": [
        "\n",
        "\n",
        "1.   Filter the dataframe to only include cities with a population greater than 2 million and a land area less than 500 square miles\n",
        "2.   Filter the dataframe to only include cities in California or Texas with a population density greater than 5000 people per square mile in descending order\n",
        "\n"
      ],
      "metadata": {
        "id": "a2hxOXlxO_d7"
      }
    },
    {
      "cell_type": "code",
      "source": [
        "#solution"
      ],
      "metadata": {
        "id": "ky__Xc0sPHPu"
      },
      "execution_count": null,
      "outputs": []
    },
    {
      "cell_type": "markdown",
      "source": [
        "## Assignment: Pivot Tables (**Part two**)\n",
        "\n",
        "**Instructions:**\n",
        "In this assignment, you will be given five datasets with pivot tables tasks.\n",
        "\n",
        "**Submission:**\n",
        "\n",
        "Please complete the assignments provided above. For each tasks, include the following:\n",
        "\n",
        "    The code used to create the DataFrame and pivot table\n",
        "    The answer to each task question\n",
        "    Any necessary explanation or justification for your answers\n",
        "\n"
      ],
      "metadata": {
        "id": "ibL2U4HmUZFp"
      }
    },
    {
      "cell_type": "markdown",
      "source": [
        "### Dataframe 1"
      ],
      "metadata": {
        "id": "bY7fcGVVWRHu"
      }
    },
    {
      "cell_type": "code",
      "source": [
        "import pandas as pd\n",
        "import numpy as np\n",
        "\n",
        "# create DataFrame\n",
        "data = {'Name': ['John', 'Alice', 'Bob', 'John', 'Alice', 'Bob', 'John', 'Alice'],\n",
        "        'Year': [2018, 2018, 2018, 2019, 2019, 2019, 2020, 2020],\n",
        "        'Grade': ['A', 'B', 'C', 'B', 'B', 'C', 'A', 'B'],\n",
        "        'Score': [80, 75, 60, 85, 78, 64, 90, 82]}\n",
        "\n",
        "df = pd.DataFrame(data)"
      ],
      "metadata": {
        "id": "nm2WgTGOXEwH"
      },
      "execution_count": null,
      "outputs": []
    },
    {
      "cell_type": "markdown",
      "source": [
        "\n",
        "\n",
        "1.   Create a pivot table that shows the average score for each student over all years.\n",
        "2.   Create a pivot table that shows the minimum, maximum, and average scores for each student for each year.\n",
        "\n"
      ],
      "metadata": {
        "id": "olzSRQXDXIfv"
      }
    },
    {
      "cell_type": "code",
      "source": [
        "#solution\n"
      ],
      "metadata": {
        "id": "idHoevdhXmCB"
      },
      "execution_count": null,
      "outputs": []
    },
    {
      "cell_type": "markdown",
      "source": [
        "### Dataframe 2"
      ],
      "metadata": {
        "id": "0Ih5Sirtc83O"
      }
    },
    {
      "cell_type": "code",
      "source": [
        "import pandas as pd\n",
        "import numpy as np\n",
        "\n",
        "# create DataFrame\n",
        "data = {'Name': ['John', 'Alice', 'Bob', 'John', 'Alice', 'Bob', 'John', 'Alice'],\n",
        "        'Year': [2018, 2018, 2018, 2019, 2019, 2019, 2020, 2020],\n",
        "        'Subject': ['Math', 'Math', 'Math', 'Science', 'Science', 'Science', 'Math', 'Science'],\n",
        "        'Score': [80, 75, 60, 85, 78, 64, 90, 82]}\n",
        "\n",
        "df = pd.DataFrame(data)\n",
        "print(df)"
      ],
      "metadata": {
        "colab": {
          "base_uri": "https://localhost:8080/"
        },
        "id": "olZgGiHuc-Bb",
        "outputId": "be61802d-10dc-45f1-b960-93d98d46c467"
      },
      "execution_count": null,
      "outputs": [
        {
          "output_type": "stream",
          "name": "stdout",
          "text": [
            "    Name  Year  Subject  Score\n",
            "0   John  2018     Math     80\n",
            "1  Alice  2018     Math     75\n",
            "2    Bob  2018     Math     60\n",
            "3   John  2019  Science     85\n",
            "4  Alice  2019  Science     78\n",
            "5    Bob  2019  Science     64\n",
            "6   John  2020     Math     90\n",
            "7  Alice  2020  Science     82\n"
          ]
        }
      ]
    },
    {
      "cell_type": "markdown",
      "source": [
        "\n",
        "\n",
        "1.   Create a pivot table that shows the average score for each subject for each year.\n",
        "2.   Create a pivot table that shows the maximum score for each subject for each student.\n",
        "\n"
      ],
      "metadata": {
        "id": "bLfyy4XndS5b"
      }
    },
    {
      "cell_type": "code",
      "source": [
        "#solution\n"
      ],
      "metadata": {
        "id": "0xmX6vWTdlLG"
      },
      "execution_count": null,
      "outputs": []
    },
    {
      "cell_type": "markdown",
      "source": [
        "### Dataframe 3"
      ],
      "metadata": {
        "id": "F7Jbz_4iegpa"
      }
    },
    {
      "cell_type": "code",
      "source": [
        "import pandas as pd\n",
        "import numpy as np\n",
        "\n",
        "# create DataFrame\n",
        "data = {'Name': ['John', 'Alice', 'Bob', 'John', 'Alice', 'Bob'],\n",
        "        'Subject': ['Math', 'Math', 'Math', 'Science', 'Science', 'Science'],\n",
        "        'Score': [80, 75, 60, 85, 78, 64]}\n",
        "\n",
        "df = pd.DataFrame(data)\n",
        "print(df)"
      ],
      "metadata": {
        "colab": {
          "base_uri": "https://localhost:8080/"
        },
        "id": "5A9bPcFweiDy",
        "outputId": "8c868d07-7b0e-4f05-9be5-a33e02b73fc5"
      },
      "execution_count": null,
      "outputs": [
        {
          "output_type": "stream",
          "name": "stdout",
          "text": [
            "    Name  Subject  Score\n",
            "0   John     Math     80\n",
            "1  Alice     Math     75\n",
            "2    Bob     Math     60\n",
            "3   John  Science     85\n",
            "4  Alice  Science     78\n",
            "5    Bob  Science     64\n"
          ]
        }
      ]
    },
    {
      "cell_type": "markdown",
      "source": [
        "1.   Create a pivot table that shows the total score for each student.\n",
        "2.   Create a pivot table that shows the total score for each subject.\n",
        "\n"
      ],
      "metadata": {
        "id": "cm6D9pJxelw0"
      }
    },
    {
      "cell_type": "code",
      "source": [
        "#solution"
      ],
      "metadata": {
        "id": "mCCkDiOEetGD"
      },
      "execution_count": null,
      "outputs": []
    },
    {
      "cell_type": "markdown",
      "source": [
        "### Dataframe 4"
      ],
      "metadata": {
        "id": "x4VVyD1FfQ5J"
      }
    },
    {
      "cell_type": "code",
      "source": [
        "import pandas as pd\n",
        "import numpy as np\n",
        "\n",
        "# create DataFrame\n",
        "data = {'Name': ['John', 'Alice', 'Bob', 'John', 'Alice', 'Bob'],\n",
        "        'Subject': ['Math', 'Math', 'Science', 'Science', 'Science', 'Science'],\n",
        "        'Year': [2018, 2018, 2018, 2019, 2019, 2019],\n",
        "        'Score': [80, 75, 85, 78, 64, 89]}\n",
        "\n",
        "df = pd.DataFrame(data)\n",
        "print(df)"
      ],
      "metadata": {
        "colab": {
          "base_uri": "https://localhost:8080/"
        },
        "id": "sxOzje6GfTJs",
        "outputId": "f2de1649-5559-442f-d3ab-c7bb34e3e596"
      },
      "execution_count": null,
      "outputs": [
        {
          "output_type": "stream",
          "name": "stdout",
          "text": [
            "    Name  Subject  Year  Score\n",
            "0   John     Math  2018     80\n",
            "1  Alice     Math  2018     75\n",
            "2    Bob  Science  2018     85\n",
            "3   John  Science  2019     78\n",
            "4  Alice  Science  2019     64\n",
            "5    Bob  Science  2019     89\n"
          ]
        }
      ]
    },
    {
      "cell_type": "markdown",
      "source": [
        "1.   Create a pivot table that shows the average score for each subject for each year.\n",
        "2.   Create a pivot table that shows the total score for each student for each year.\n",
        "\n",
        "\n",
        "\n"
      ],
      "metadata": {
        "id": "U9LOjEOhfeu6"
      }
    },
    {
      "cell_type": "code",
      "source": [
        "#solution"
      ],
      "metadata": {
        "id": "xM8k9qv0fmO_"
      },
      "execution_count": null,
      "outputs": []
    },
    {
      "cell_type": "markdown",
      "source": [
        "### Dataframe 5"
      ],
      "metadata": {
        "id": "PHYvPySJhccU"
      }
    },
    {
      "cell_type": "code",
      "source": [
        "import pandas as pd\n",
        "import numpy as np\n",
        "\n",
        "# create DataFrame\n",
        "data = {'Name': ['John', 'Alice', 'Bob', 'John', 'Alice', 'Bob'],\n",
        "        'Subject': ['Math', 'Math', 'Science', 'Science', 'Science', 'Science'],\n",
        "        'Year': [2018, 2018, 2018, 2019, 2019, 2019],\n",
        "        'Score': [80, 75, 85, 78, 64, 89]}\n",
        "\n",
        "df = pd.DataFrame(data)\n",
        "print(df)"
      ],
      "metadata": {
        "colab": {
          "base_uri": "https://localhost:8080/"
        },
        "id": "_7DIFlNngK00",
        "outputId": "b4a44c4e-0b90-417a-8109-4b2e68dae337"
      },
      "execution_count": null,
      "outputs": [
        {
          "output_type": "stream",
          "name": "stdout",
          "text": [
            "    Name  Subject  Year  Score\n",
            "0   John     Math  2018     80\n",
            "1  Alice     Math  2018     75\n",
            "2    Bob  Science  2018     85\n",
            "3   John  Science  2019     78\n",
            "4  Alice  Science  2019     64\n",
            "5    Bob  Science  2019     89\n"
          ]
        }
      ]
    },
    {
      "cell_type": "markdown",
      "source": [
        "1.   Create a pivot table that shows the average score for each subject for each year.\n",
        "2.    Create a pivot table that shows the maximum score for each subject for each year.\n",
        "\n"
      ],
      "metadata": {
        "id": "eQ86mM5KgUPS"
      }
    },
    {
      "cell_type": "code",
      "source": [
        "#solution"
      ],
      "metadata": {
        "id": "K00dlB-gghES"
      },
      "execution_count": null,
      "outputs": []
    }
  ]
}