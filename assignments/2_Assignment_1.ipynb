{
  "nbformat": 4,
  "nbformat_minor": 0,
  "metadata": {
    "colab": {
      "provenance": []
    },
    "kernelspec": {
      "name": "python3",
      "display_name": "Python 3"
    },
    "language_info": {
      "name": "python"
    }
  },
  "cells": [
    {
      "cell_type": "markdown",
      "source": [
        "\n",
        "#Week 1\n",
        "\n"
      ],
      "metadata": {
        "id": "AnIQaraU6m-t"
      }
    },
    {
      "cell_type": "markdown",
      "source": [
        "##Cleaning numerical data"
      ],
      "metadata": {
        "id": "wTfIFZI67ML4"
      }
    },
    {
      "cell_type": "markdown",
      "source": [
        "### Assignment: Data Cleaning for Numerical Data using Python (**Part One**)\n",
        "\n",
        "Instructions:\n",
        "\n",
        "In this assignment, you will be given a dataset containing numerical data with missing values, duplicate entries, outliers, and inconsistent data. Your task is to clean the data using Python and prepare it for further analysis.\n",
        "\n",
        "Dataset:\n",
        "\n",
        "The dataset you will be using is a fictional dataset of employee salaries. The dataset contains the following columns:\n",
        "\n",
        "\n",
        "1.   Employee ID: unique identifier for each employee\n",
        "1.   Age: age of the employee\n",
        "2.   Years of Experience: years of experience of the employee\n",
        "3.   Gender: gender of the employee\n",
        "4.   Department: department the employee belongs to\n",
        "\n",
        "\n",
        "\n",
        "The dataset is saved in a CSV file named \"employee_salaries.csv\".\n",
        "\n",
        "Tasks:\n",
        "\n",
        "1.   Load the dataset into a pandas DataFrame and display the first 10 rows of the dataset.\n",
        "2.   Check if there are any missing values in the dataset. If there are, replace them with the median of the corresponding column.\n",
        "3.   Check if there are any duplicate entries in the dataset. If there are, remove them.\n",
        "4.   Check for outliers in the \"Salary\" column using a box plot. If there are outliers, remove them using the interquartile range (IQR) method.\n",
        "5.   Check for inconsistent data in the \"Gender\" column. If there is any inconsistent data, replace it with the mode of the corresponding column.\n",
        "6.   Save the cleaned dataset to a new CSV file named \"cleaned_employee_salaries.csv\".\n",
        "\n",
        "**Submission:**\n",
        "\n",
        "Submit the Python code used to clean the data along with the cleaned dataset in a zip file. Also, write a brief report explaining the steps you took to clean the data and the reasoning behind them.\n",
        "\n",
        "Good luck!"
      ],
      "metadata": {
        "id": "OAt-6og9lVjm"
      }
    },
    {
      "cell_type": "code",
      "source": [
        "code"
      ],
      "metadata": {
        "id": "lNtABxprAGkN"
      },
      "execution_count": null,
      "outputs": []
    },
    {
      "cell_type": "markdown",
      "source": [
        "##Cleaning text data"
      ],
      "metadata": {
        "id": "yG1PKkdU-aBV"
      }
    },
    {
      "cell_type": "markdown",
      "source": [
        "###Assignment: Data Cleaning for Text Data using Python (**Part Two**)\n",
        "\n",
        "Instructions:\n",
        "In this assignment, you will be given a dataset containing text data with noise, inconsistencies, and redundancies. Your task is to clean the data using Python and prepare it for further analysis.\n",
        "\n",
        "Dataset:\n",
        "The dataset you will be using is a fictional dataset of customer reviews for a restaurant. The dataset contains the following columns:\n",
        "\n",
        "Review ID: unique identifier for each review\n",
        "Review Text: the text of the review\n",
        "Rating: the rating given by the customer (on a scale of 1 to 5)\n",
        "The dataset is saved in a CSV file named \"restaurant_reviews.csv\".\n",
        "\n",
        "Tasks:\n",
        "1.   Load the dataset into a pandas DataFrame and display the first 10 rows of the dataset.\n",
        "2.   Convert all text to lowercase to standardize the text data.\n",
        "3.   Remove punctuation, special characters, and numbers from the review text using regular expressions.\n",
        "4.  Remove stop words (commonly used words such as \"the\", \"a\", \"an\", \"and\", etc.) \n",
        "5.  Remove any URLs, email addresses, and phone numbers from the review text using regular expressions. \n",
        "6.  Remove any duplicate reviews from the dataset. \n",
        "7.  Save the cleaned dataset to a new CSV file named \"cleaned_restaurant_reviews.csv\".\n",
        " \n",
        "**Submission:**\n",
        "\n",
        "Submit the Python code used to clean the data along with the cleaned dataset in a zip file. Also, write a brief report explaining the steps you took to clean the data and the reasoning behind them."
      ],
      "metadata": {
        "id": "3f6qI3-7mnr_"
      }
    },
    {
      "cell_type": "code",
      "source": [
        "code"
      ],
      "metadata": {
        "id": "Hemk4FAJAJYw"
      },
      "execution_count": null,
      "outputs": []
    }
  ]
}