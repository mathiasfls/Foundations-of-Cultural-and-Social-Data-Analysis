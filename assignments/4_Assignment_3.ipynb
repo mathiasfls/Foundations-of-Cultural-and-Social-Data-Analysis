{
  "nbformat": 4,
  "nbformat_minor": 0,
  "metadata": {
    "colab": {
      "provenance": [],
      "toc_visible": true,
      "include_colab_link": true
    },
    "kernelspec": {
      "name": "python3",
      "display_name": "Python 3"
    },
    "language_info": {
      "name": "python"
    }
  },
  "cells": [
    {
      "cell_type": "markdown",
      "metadata": {
        "id": "view-in-github",
        "colab_type": "text"
      },
      "source": [
        "<a href=\"https://colab.research.google.com/github/mathiasfls/Foundations-of-Cultural-and-Social-Data-Analysis/blob/main/assignments/4_Assignment_3.ipynb\" target=\"_parent\"><img src=\"https://colab.research.google.com/assets/colab-badge.svg\" alt=\"Open In Colab\"/></a>"
      ]
    },
    {
      "cell_type": "markdown",
      "source": [
        "#Week 4\n",
        "\n"
      ],
      "metadata": {
        "id": "AnIQaraU6m-t"
      }
    },
    {
      "cell_type": "markdown",
      "source": [
        "## Assignment: Combining Data\n",
        "\n",
        "Instructions:\n",
        "\n",
        "In this assignment, you will work with two dataframes - \"Online Products\" and \"Reviews\". The Online Products dataframe contains information about the products available for sale online. The Reviews dataframe contains customer reviews of the products.\n",
        "\n",
        "Your task is to use the join() method in Pandas to combine these two dataframes based on a common column, \"product_id\". You will use the three types of joins - left, right, and inner - to accomplish different tasks.\n",
        "\n",
        "**Submission:**\n",
        "\n",
        "    Create a Python script containing your solution to the three tasks.\n",
        "    Ensure that your script can be executed and produces the expected output when run.\n",
        "    Save your script with a meaningful name, such as \"pandas_join_assignment.py\".\n",
        "    Submit your script via your preferred method, such as email or an online code repository."
      ],
      "metadata": {
        "id": "OAt-6og9lVjm"
      }
    },
    {
      "cell_type": "markdown",
      "source": [
        "**Dataframe 1**"
      ],
      "metadata": {
        "id": "wF85ByW5Mrxy"
      }
    },
    {
      "cell_type": "code",
      "source": [
        "import pandas as pd\n",
        "\n",
        "products = {\n",
        "    \"product_id\": [101, 102, 103, 104, 105],\n",
        "    \"product_name\": [\"Keyboard\", \"Mouse\", \"Monitor\", \"Headphones\", \"Webcam\"],\n",
        "    \"product_price\": [20, 10, 100, 50, 30],\n",
        "    \"product_category\": [\"Computer Accessories\", \"Computer Accessories\", \"Monitors\", \"Audio\", \"Computer Accessories\"]\n",
        "}\n",
        "\n",
        "online_products = pd.DataFrame(products)\n",
        "print(online_products)"
      ],
      "metadata": {
        "id": "lNtABxprAGkN",
        "colab": {
          "base_uri": "https://localhost:8080/"
        },
        "outputId": "1affcb10-ada1-421e-a6a9-858874c1b955"
      },
      "execution_count": null,
      "outputs": [
        {
          "output_type": "stream",
          "name": "stdout",
          "text": [
            "   product_id product_name  product_price      product_category\n",
            "0         101     Keyboard             20  Computer Accessories\n",
            "1         102        Mouse             10  Computer Accessories\n",
            "2         103      Monitor            100              Monitors\n",
            "3         104   Headphones             50                 Audio\n",
            "4         105       Webcam             30  Computer Accessories\n"
          ]
        }
      ]
    },
    {
      "cell_type": "markdown",
      "source": [
        "**Dataframe 2**"
      ],
      "metadata": {
        "id": "oR3nCVPUNNEj"
      }
    },
    {
      "cell_type": "code",
      "source": [
        "reviews = {\n",
        "    \"review_id\": [1, 2, 3, 4, 5, 6, 7, 8, 9, 10],\n",
        "    \"product_id\": [101, 101, 103, 105, 102, 105, 103, 101, 105, 104],\n",
        "    \"review_rating\": [4, 5, 3, 2, 4, 5, 2, 5, 1, 3],\n",
        "    \"review_text\": [\"Great keyboard\", \"Best keyboard ever\", \"Average monitor\", \"Terrible webcam\", \"Nice mouse\", \n",
        "                    \"Amazing webcam\", \"Poor monitor\", \"Excellent keyboard\", \"Worst webcam ever\", \"Okay headphones\"]\n",
        "}\n",
        "\n",
        "reviews_df = pd.DataFrame(reviews)\n",
        "print(reviews_df)\n"
      ],
      "metadata": {
        "id": "Ip3_iI5QNRy9",
        "colab": {
          "base_uri": "https://localhost:8080/"
        },
        "outputId": "56eb0b44-62a5-4c0d-9eaa-c6bb8079f8b2"
      },
      "execution_count": null,
      "outputs": [
        {
          "output_type": "stream",
          "name": "stdout",
          "text": [
            "   review_id  product_id  review_rating         review_text\n",
            "0          1         101              4      Great keyboard\n",
            "1          2         101              5  Best keyboard ever\n",
            "2          3         103              3     Average monitor\n",
            "3          4         105              2     Terrible webcam\n",
            "4          5         102              4          Nice mouse\n",
            "5          6         105              5      Amazing webcam\n",
            "6          7         103              2        Poor monitor\n",
            "7          8         101              5  Excellent keyboard\n",
            "8          9         105              1   Worst webcam ever\n",
            "9         10         104              3     Okay headphones\n"
          ]
        }
      ]
    },
    {
      "cell_type": "markdown",
      "source": [
        "**Tasks**"
      ],
      "metadata": {
        "id": "HYM4vCDoNbMQ"
      }
    },
    {
      "cell_type": "markdown",
      "source": [
        "**Task 1**\n",
        "\n",
        "Join the Online Products and Reviews dataframes using a left join. The resulting dataframe should include all the records from the Online Products dataframe and only the matching records from the Reviews dataframe."
      ],
      "metadata": {
        "id": "F9NNcIoIPOmJ"
      }
    },
    {
      "cell_type": "code",
      "source": [
        "#solution:\n"
      ],
      "metadata": {
        "id": "Us7ugrBtNkmV"
      },
      "execution_count": null,
      "outputs": []
    },
    {
      "cell_type": "markdown",
      "source": [
        "**Task 2**\n",
        "\n",
        "Join the Online Products and Reviews dataframes using a right join. The resulting dataframe should include all the records from the Reviews dataframe and only the matching records from the Online Products dataframe.\n",
        "\n",
        "\n",
        "\n"
      ],
      "metadata": {
        "id": "K1HmGGzmN3wk"
      }
    },
    {
      "cell_type": "code",
      "source": [
        "#solution\n"
      ],
      "metadata": {
        "id": "IhvUbCajOOnO"
      },
      "execution_count": null,
      "outputs": []
    },
    {
      "cell_type": "markdown",
      "source": [
        "**Task 3**\n",
        "\n",
        "Join the Online Products and Reviews dataframes using an inner join. The resulting dataframe should include only the matching records from both dataframes."
      ],
      "metadata": {
        "id": "OqkcC9l-OVQb"
      }
    },
    {
      "cell_type": "code",
      "source": [
        "#solution\n"
      ],
      "metadata": {
        "id": "B71qD007OnPu"
      },
      "execution_count": null,
      "outputs": []
    }
  ]
}